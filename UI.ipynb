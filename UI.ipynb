{
 "cells": [
  {
   "cell_type": "code",
   "execution_count": null,
   "metadata": {},
   "outputs": [],
   "source": [
    "%%html\n",
    "<style>\n",
    "div.input {\n",
    "    display:none;\n",
    "}\n",
    "</style>"
   ]
  },
  {
   "cell_type": "markdown",
   "metadata": {},
   "source": [
    "# 0. Initialization"
   ]
  },
  {
   "cell_type": "markdown",
   "metadata": {},
   "source": [
    "## Options"
   ]
  },
  {
   "cell_type": "code",
   "execution_count": 1,
   "metadata": {},
   "outputs": [],
   "source": [
    "#the directory where you placed our files (ie. where the README.txt etc. are located)\n",
    "directory = '/home/amdg/Documents/ISICT/final'"
   ]
  },
  {
   "cell_type": "markdown",
   "metadata": {},
   "source": [
    "## Dependencies"
   ]
  },
  {
   "cell_type": "code",
   "execution_count": 2,
   "metadata": {},
   "outputs": [],
   "source": [
    "from catboost import CatBoostClassifier\n",
    "from ipywidgets import widgets, Layout\n",
    "from pattern.text.nl import sentiment #sentiment analysis\n",
    "import pandas as pd\n",
    "import numpy as np\n",
    "import json"
   ]
  },
  {
   "cell_type": "markdown",
   "metadata": {},
   "source": [
    "## Catboost"
   ]
  },
  {
   "cell_type": "code",
   "execution_count": 3,
   "metadata": {},
   "outputs": [],
   "source": [
    "%%capture\n",
    "model1 = CatBoostClassifier()\n",
    "model1.load_model(fname = directory + '/models/model1-33.cbm', format = 'cbm')\n",
    "\n",
    "model2 = CatBoostClassifier()\n",
    "model2.load_model(fname = directory + '/models/model2-33.cbm', format = 'cbm')\n",
    "\n",
    "model3 = CatBoostClassifier()\n",
    "model3.load_model(fname = directory + '/models/model3-33.cbm', format = 'cbm')\n",
    "\n",
    "model4 = CatBoostClassifier()\n",
    "model4.load_model(fname = directory + '/models/model4-33.cbm', format = 'cbm')\n",
    "\n",
    "model5 = CatBoostClassifier()\n",
    "model5.load_model(fname = directory + '/models/model5-33.cbm', format = 'cbm')"
   ]
  },
  {
   "cell_type": "markdown",
   "metadata": {},
   "source": [
    "# 1. Function defs\n",
    "Entirely similar to twitter_scraping"
   ]
  },
  {
   "cell_type": "code",
   "execution_count": 4,
   "metadata": {},
   "outputs": [],
   "source": [
    "#Source: https://stackoverflow.com/questions/43146528/how-to-extract-all-the-emojis-from-text\n",
    "import regex\n",
    "def emojis_str(text):\n",
    "\n",
    "    emoji_list = []\n",
    "    data = regex.findall(r'\\X', text)\n",
    "    for word in data:\n",
    "        if any(char in emoji.UNICODE_EMOJI for char in word):\n",
    "            emoji_list.append(word)\n",
    "\n",
    "    return ''.join(emoji_list)"
   ]
  },
  {
   "cell_type": "code",
   "execution_count": 5,
   "metadata": {},
   "outputs": [],
   "source": [
    "import requests\n",
    "import urllib.request\n",
    "import time\n",
    "from bs4 import BeautifulSoup\n",
    "import regex\n",
    "import time\n",
    "try:\n",
    "    data = json.load(open(\"hashtags.json\", \"r\"))\n",
    "    df = pd.DataFrame.from_dict(data, orient=\"index\")\n",
    "    dictOfHashtags = df.to_dict('dict')[0]\n",
    "except:\n",
    "    dictOfHashtags = {}\n",
    "    \n",
    "def hashtags(dict_, dictOfHashtags):\n",
    "    \n",
    "    dt = dict_['date']\n",
    "    #print(dt)\n",
    "    try:\n",
    "        string = dictOfHashtags[dt]\n",
    "    except:\n",
    "        url = 'https://trendogate.com/placebydate/23424757/'+dt\n",
    "        #print(url)\n",
    "        response = requests.get(url)\n",
    "        tx = BeautifulSoup(response.text, 'html.parser')\n",
    "        string = \"\"\n",
    "        #flag = true\n",
    "        ind = tx.find(\"h2\",text=\" Trends in Belgium / Belgium \")\n",
    "        while ind:\n",
    "            ind = ind.find_next(\"li\")\n",
    "            try:\n",
    "                string = string + ind.text\n",
    "            except:\n",
    "                #print(\"end of hashtags\")\n",
    "                pass\n",
    "        string = regex.sub('#', '', string)\n",
    "        dictOfHashtags[dt]=string\n",
    "        time.sleep(1)\n",
    "    count = 0\n",
    "    try:\n",
    "        for el in dict_['hashtags']:\n",
    "            #print(el['text'])\n",
    "            if el in string: \n",
    "                count = count + 1\n",
    "    except:\n",
    "        print(\"In function hashtags: exception for:\"+dict_['id_str'])\n",
    "    #print(string)\n",
    "    #print (str(count)+'\\n \\n')\n",
    "    return count"
   ]
  },
  {
   "cell_type": "markdown",
   "metadata": {},
   "source": [
    "# 2. Main Code"
   ]
  },
  {
   "cell_type": "code",
   "execution_count": 6,
   "metadata": {},
   "outputs": [],
   "source": [
    "from datetime import date\n",
    "def on_button_clicked(b, model1 = model1, model2 = model2, model3 = model3, model4 = model4, model5 = model5):\n",
    "    qual.description = 'please wait'\n",
    "    qual.button_style = 'info'\n",
    "    try:\n",
    "        import emoji\n",
    "        emojis = emojis_str(text)\n",
    "        num_emojis = len(emojis)\n",
    "    except:\n",
    "        num_emojis = 0\n",
    "\n",
    "    try:\n",
    "        from pattern.text.nl import sentiment #sentiment analysis\n",
    "        result = sentiment(dict_['tweet_text'])\n",
    "        polarity = result[0]\n",
    "        subjectivity = result[1]\n",
    "    except:\n",
    "        polarity = 0\n",
    "        subjectivity = 0\n",
    "\n",
    "    text = tweet_text.value\n",
    "    num_urls = text.count(\"http\")-quote.value\n",
    "    num_mentions = text.count(\"@\")\n",
    "    num_hashtags = text.count(\"#\")\n",
    "    length = len(text)\n",
    "           \n",
    "    reg = regex.compile(r\"#(\\w+)\")\n",
    "    tags = reg.findall(text)\n",
    "    dat = date_picker.value\n",
    "    \n",
    "    try:\n",
    "        dict_ = {'date': dat.strftime(\"%Y-%m-%d\"), 'hashtags': tags}\n",
    "        num_hashtags_trending = hashtags(dict_, dictOfHashtags)\n",
    "    except:\n",
    "        print('Please fill in a date!')\n",
    "        \n",
    "    delta = dat-date.today() \n",
    "    days_since_post = -delta.days\n",
    "    day_week = dat.weekday()\n",
    "       \n",
    "    data = {'time_day': hour.value,\n",
    "            'day_week': day_week,\n",
    "            'num_hashtags': num_hashtags,\n",
    "            'num_hashtags_trending': num_hashtags_trending,\n",
    "            'num_mentions': num_mentions,\n",
    "            'num_urls': num_urls,\n",
    "            'num_emojis': num_emojis,\n",
    "            'subjectivity': subjectivity,\n",
    "            'polarity': polarity,\n",
    "            'length': length,\n",
    "            'days_since_post': days_since_post,\n",
    "            'reply': reply.value,\n",
    "            'quote': quote.value,\n",
    "            'category': 'politiek',\n",
    "            'party_affiliation': party.value,\n",
    "            'media_type': media.value,\n",
    "           } \n",
    "  \n",
    "    x = pd.DataFrame(data,  index=[0]) \n",
    "        \n",
    "    y_pred1 = model1.predict(x)\n",
    "    y_pred2 = model2.predict(x)\n",
    "    y_pred3 = model3.predict(x)\n",
    "    y_pred4 = model4.predict(x)\n",
    "    y_pred5 = model5.predict(x)\n",
    "    \n",
    "    y_comp = pd.concat([pd.Series(np.ravel(y_pred1)), pd.Series(np.ravel(y_pred2)), pd.Series(np.ravel(y_pred3)), pd.Series(np.ravel(y_pred4)),pd.Series(np.ravel(y_pred5))],axis=1)\n",
    "    y_mean = y_comp.mode(axis=1).iloc[:, 0] #choose prediction that is most frequent per tweet\n",
    "\n",
    "    quality = 'bad' if y_mean[0] == 0 else 'medium' if y_mean[0] == 1 else 'good'\n",
    "    qual.description = quality\n",
    "    if quality == 'bad':\n",
    "        qual.button_style = 'danger'\n",
    "    elif quality == 'medium':\n",
    "        qual.button_style = 'warning'\n",
    "    else:\n",
    "        qual.button_style = 'success'"
   ]
  },
  {
   "cell_type": "code",
   "execution_count": 7,
   "metadata": {
    "scrolled": true
   },
   "outputs": [
    {
     "data": {
      "application/vnd.jupyter.widget-view+json": {
       "model_id": "9bb39f171ff74f55a23c18001edace79",
       "version_major": 2,
       "version_minor": 0
      },
      "text/plain": [
       "VBox(children=(Text(value='', description='Tweet text:'), Dropdown(description='Media Type:', index=2, options…"
      ]
     },
     "metadata": {},
     "output_type": "display_data"
    }
   ],
   "source": [
    "tweet_text = widgets.Text(description='Tweet text:',)\n",
    "media = widgets.Dropdown(\n",
    "    options=['video', 'photo', 'none'],\n",
    "    value='none',\n",
    "    description='Media Type:',\n",
    ")\n",
    "\n",
    "party = widgets.Dropdown(\n",
    "    options=['pvdabelgie', 'groen', 'sp_a', 'cdenv', 'openvld', 'de_NVA', 'vlbelang'],\n",
    "    value='pvdabelgie',\n",
    "    description='Screen Name:',\n",
    ")\n",
    "reply = widgets.Checkbox(\n",
    "    value=False,\n",
    "    description='Reply',\n",
    ")\n",
    "quote = widgets.Checkbox(\n",
    "    value=False,\n",
    "    description='Quote',\n",
    ")\n",
    "hour = widgets.IntSlider(\n",
    "    value=12,\n",
    "    min=0,\n",
    "    max=24,\n",
    "    step=1,\n",
    "    description='Hour:',\n",
    "    continuous_update=False,\n",
    "    orientation='horizontal',\n",
    "    readout=True,\n",
    "    readout_format='d'\n",
    ")\n",
    "\n",
    "date_picker = widgets.DatePicker(\n",
    "    description='Date:',\n",
    "    value = date.today() \n",
    ")\n",
    "{\n",
    "    \"tags\": [\n",
    "        \"hide_input\",\n",
    "    ]\n",
    "}\n",
    "type_tweet = widgets.RadioButtons(\n",
    "    options=['normal', 'reply', 'quote'],\n",
    "    value='normal',\n",
    "    description='Percentage of tweets to be counted as bad/medium/good',\n",
    ")\n",
    "\n",
    "\n",
    "submit = widgets.Button(\n",
    "    description='Submit',\n",
    "    button_style='', \n",
    "    tooltip='Click me',\n",
    "    icon='check',\n",
    "    layout = Layout(align_items = 'center')\n",
    ")\n",
    "\n",
    "qual = widgets.Button(\n",
    "    description='Tweet Quality',\n",
    "    button_style='',\n",
    "    layout = Layout(align_items = 'center')\n",
    ")\n",
    "\n",
    "box_layout = widgets.Layout(display='flex',\n",
    "               flex_flow='row',\n",
    "               align_items='center',\n",
    "                width='50%')\n",
    "hbox = widgets.HBox(children=[submit, qual],layout=box_layout)\n",
    "submit.on_click(on_button_clicked)\n",
    "box = widgets.VBox([tweet_text, media, party, reply, quote, hour, date_picker, hbox])\n",
    "box\n",
    "\n"
   ]
  }
 ],
 "metadata": {
  "kernelspec": {
   "display_name": "Python 3",
   "language": "python",
   "name": "python3"
  },
  "language_info": {
   "codemirror_mode": {
    "name": "ipython",
    "version": 3
   },
   "file_extension": ".py",
   "mimetype": "text/x-python",
   "name": "python",
   "nbconvert_exporter": "python",
   "pygments_lexer": "ipython3",
   "version": "3.7.4"
  }
 },
 "nbformat": 4,
 "nbformat_minor": 2
}
